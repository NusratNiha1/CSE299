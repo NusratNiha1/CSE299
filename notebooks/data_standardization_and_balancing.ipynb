{
 "cells": [
  {
   "cell_type": "markdown",
   "id": "10d3bf5a",
   "metadata": {},
   "source": [
    "# Baby Cry Detection Dataset Preparation\n",
    "\n",
    "This notebook standardizes and balances the cry vs non-cry audio dataset:\n",
    "- **Cry samples**: 1000+ files in `Dataset/cry_merged`\n",
    "- **Non-cry samples**: <500 files in `Dataset/non-cry`\n",
    "\n",
    "**Steps:**\n",
    "1. Count existing samples\n",
    "2. Standardize non-cry audio to 7s, 16kHz mono WAV\n",
    "3. Generate additional synthetic non-cry to balance dataset\n",
    "4. Verify final balanced counts"
   ]
  },
  {
   "cell_type": "markdown",
   "id": "b36198d9",
   "metadata": {},
   "source": [
    "## 1. Import Required Libraries"
   ]
  },
  {
   "cell_type": "code",
   "execution_count": 1,
   "id": "92c912ba",
   "metadata": {},
   "outputs": [
    {
     "name": "stdout",
     "output_type": "stream",
     "text": [
      "✓ Libraries loaded\n",
      "✓ FFmpeg binary: C:\\Users\\mkhan\\AppData\\Roaming\\Python\\Python313\\site-packages\\imageio_ffmpeg\\binaries\\ffmpeg-win-x86_64-v7.1.exe\n"
     ]
    }
   ],
   "source": [
    "import os\n",
    "import sys\n",
    "from pathlib import Path\n",
    "import subprocess\n",
    "import shutil\n",
    "import numpy as np\n",
    "import soundfile as sf\n",
    "from tqdm import tqdm\n",
    "import matplotlib.pyplot as plt\n",
    "\n",
    "# Add parent directory to path for importing our scripts\n",
    "sys.path.insert(0, str(Path.cwd().parent))\n",
    "\n",
    "# Try to import imageio_ffmpeg for bundled ffmpeg\n",
    "try:\n",
    "    import imageio_ffmpeg\n",
    "    FFMPEG_BIN = imageio_ffmpeg.get_ffmpeg_exe()\n",
    "except Exception:\n",
    "    FFMPEG_BIN = shutil.which(\"ffmpeg\") or \"ffmpeg\"\n",
    "\n",
    "print(f\"✓ Libraries loaded\")\n",
    "print(f\"✓ FFmpeg binary: {FFMPEG_BIN}\")"
   ]
  },
  {
   "cell_type": "markdown",
   "id": "ded60012",
   "metadata": {},
   "source": [
    "## 2. Setup Paths and Configuration"
   ]
  },
  {
   "cell_type": "code",
   "execution_count": 2,
   "id": "29c2c16f",
   "metadata": {},
   "outputs": [
    {
     "name": "stdout",
     "output_type": "stream",
     "text": [
      "Project root: c:\\Users\\mkhan\\Documents\\Projects\\Niha\\LittleBee\n",
      "Cry dataset: Dataset\\cry\n",
      "Non-cry raw: Dataset\\non-cry\n",
      "Non-cry standardized: Dataset\\non-cry_standardized\n",
      "Balanced output: Dataset\\balanced\n"
     ]
    }
   ],
   "source": [
    "# Navigate to project root\n",
    "os.chdir(Path.cwd().parent)\n",
    "\n",
    "# Dataset paths\n",
    "CRY_DIR = Path(\"Dataset/cry\")\n",
    "NONCRY_RAW_DIR = Path(\"Dataset/non-cry\")\n",
    "NONCRY_STD_DIR = Path(\"Dataset/non-cry_standardized\")\n",
    "BALANCED_DIR = Path(\"Dataset/balanced\")\n",
    "\n",
    "# Audio settings\n",
    "TARGET_SR = 16000\n",
    "TARGET_DUR = 7.0  # seconds\n",
    "\n",
    "print(f\"Project root: {Path.cwd()}\")\n",
    "print(f\"Cry dataset: {CRY_DIR}\")\n",
    "print(f\"Non-cry raw: {NONCRY_RAW_DIR}\")\n",
    "print(f\"Non-cry standardized: {NONCRY_STD_DIR}\")\n",
    "print(f\"Balanced output: {BALANCED_DIR}\")"
   ]
  },
  {
   "cell_type": "markdown",
   "id": "c09c53e6",
   "metadata": {},
   "source": [
    "## 3. Count Existing Samples"
   ]
  },
  {
   "cell_type": "code",
   "execution_count": 3,
   "id": "909c5ce4",
   "metadata": {},
   "outputs": [
    {
     "name": "stdout",
     "output_type": "stream",
     "text": [
      "📊 Current Dataset:\n",
      "   Cry samples: 1450\n",
      "   Non-cry samples: 324\n",
      "   Imbalance ratio: 4.48:1\n"
     ]
    },
    {
     "data": {
      "image/png": "[encoded data removed]",
      "text/plain": [
       "<Figure size 800x500 with 1 Axes>"
      ]
     },
     "metadata": {},
     "output_type": "display_data"
    }
   ],
   "source": [
    "def count_audio_files(directory):\n",
    "    \"\"\"Count .wav and other audio files in directory\"\"\"\n",
    "    audio_exts = {'.wav', '.mp3', '.3gp', '.m4a', '.flac', '.ogg', '.aac'}\n",
    "    files = [f for f in Path(directory).rglob('*') if f.suffix.lower() in audio_exts]\n",
    "    return len(files), files\n",
    "\n",
    "cry_count, cry_files = count_audio_files(CRY_DIR)\n",
    "noncry_count, noncry_files = count_audio_files(NONCRY_RAW_DIR)\n",
    "\n",
    "print(f\"📊 Current Dataset:\")\n",
    "print(f\"   Cry samples: {cry_count}\")\n",
    "print(f\"   Non-cry samples: {noncry_count}\")\n",
    "print(f\"   Imbalance ratio: {cry_count / max(noncry_count, 1):.2f}:1\")\n",
    "\n",
    "# Visualize\n",
    "fig, ax = plt.subplots(figsize=(8, 5))\n",
    "bars = ax.bar(['Cry', 'Non-Cry'], [cry_count, noncry_count], color=['#ff6b6b', '#4ecdc4'])\n",
    "ax.set_ylabel('Number of Samples')\n",
    "ax.set_title('Dataset Distribution (Before Balancing)')\n",
    "ax.axhline(y=cry_count, color='gray', linestyle='--', alpha=0.5, label='Target balance')\n",
    "for bar in bars:\n",
    "    height = bar.get_height()\n",
    "    ax.text(bar.get_x() + bar.get_width()/2., height,\n",
    "            f'{int(height)}', ha='center', va='bottom')\n",
    "ax.legend()\n",
    "plt.tight_layout()\n",
    "plt.show()"
   ]
  },
  {
   "cell_type": "markdown",
   "id": "c8c2cb19",
   "metadata": {},
   "source": [
    "## 4. Standardize Non-Cry Audio\n",
    "\n",
    "Convert all non-cry files to 7-second, 16kHz mono WAV with consistent naming: `noncry_00000.wav`, `noncry_00001.wav`, etc."
   ]
  },
  {
   "cell_type": "code",
   "execution_count": 4,
   "id": "5ff0a141",
   "metadata": {},
   "outputs": [
    {
     "name": "stdout",
     "output_type": "stream",
     "text": [
      "🔄 Standardizing 324 non-cry files...\n"
     ]
    },
    {
     "name": "stderr",
     "output_type": "stream",
     "text": [
      "Converting: 100%|██████████| 324/324 [00:10<00:00, 32.15it/s]"
     ]
    },
    {
     "name": "stdout",
     "output_type": "stream",
     "text": [
      "✅ Standardized 324 non-cry files to Dataset\\non-cry_standardized\n"
     ]
    },
    {
     "name": "stderr",
     "output_type": "stream",
     "text": [
      "\n"
     ]
    }
   ],
   "source": [
    "def standardize_audio_ffmpeg(src_path, dst_path, sr=TARGET_SR, duration=TARGET_DUR, ffmpeg_bin=FFMPEG_BIN):\n",
    "    \"\"\"Convert audio to 7s mono WAV at target sample rate using ffmpeg\"\"\"\n",
    "    filter_expr = f\"apad,atrim=0:{duration}\"\n",
    "    cmd = [\n",
    "        ffmpeg_bin, \"-y\", \"-loglevel\", \"error\",\n",
    "        \"-i\", str(src_path),\n",
    "        \"-ac\", \"1\",\n",
    "        \"-ar\", str(sr),\n",
    "        \"-filter_complex\", filter_expr,\n",
    "        \"-c:a\", \"pcm_s16le\",\n",
    "        str(dst_path),\n",
    "    ]\n",
    "    proc = subprocess.run(cmd, stdout=subprocess.PIPE, stderr=subprocess.STDOUT, text=True)\n",
    "    if proc.returncode != 0:\n",
    "        raise RuntimeError(f\"ffmpeg failed: {proc.stdout}\")\n",
    "\n",
    "# Create output directory\n",
    "NONCRY_STD_DIR.mkdir(parents=True, exist_ok=True)\n",
    "\n",
    "# Standardize all non-cry files\n",
    "print(f\"🔄 Standardizing {noncry_count} non-cry files...\")\n",
    "for idx, src_file in enumerate(tqdm(noncry_files, desc=\"Converting\")):\n",
    "    dst_file = NONCRY_STD_DIR / f\"noncry_{idx:05d}.wav\"\n",
    "    try:\n",
    "        standardize_audio_ffmpeg(src_file, dst_file)\n",
    "    except Exception as e:\n",
    "        print(f\"⚠️  Failed to convert {src_file.name}: {e}\")\n",
    "\n",
    "# Count standardized files\n",
    "std_count, _ = count_audio_files(NONCRY_STD_DIR)\n",
    "print(f\"✅ Standardized {std_count} non-cry files to {NONCRY_STD_DIR}\")"
   ]
  },
  {
   "cell_type": "markdown",
   "id": "332d9b08",
   "metadata": {},
   "source": [
    "## 5. Calculate Samples Needed for Balance"
   ]
  },
  {
   "cell_type": "code",
   "execution_count": 5,
   "id": "6b0f67a5",
   "metadata": {},
   "outputs": [
    {
     "name": "stdout",
     "output_type": "stream",
     "text": [
      "📈 Balance Analysis:\n",
      "   Cry samples: 1450\n",
      "   Standardized non-cry: 324\n",
      "   Additional non-cry needed: 1126\n",
      "\n",
      "💡 Strategy: Generate 1126 synthetic non-cry samples using Scaper\n"
     ]
    }
   ],
   "source": [
    "needed = cry_count - std_count\n",
    "\n",
    "print(f\"📈 Balance Analysis:\")\n",
    "print(f\"   Cry samples: {cry_count}\")\n",
    "print(f\"   Standardized non-cry: {std_count}\")\n",
    "print(f\"   Additional non-cry needed: {needed}\")\n",
    "print(f\"\\n💡 Strategy: Generate {needed} synthetic non-cry samples using Scaper\")"
   ]
  },
  {
   "cell_type": "markdown",
   "id": "1482d395",
   "metadata": {},
   "source": [
    "## 6. Generate Additional Synthetic Non-Cry Samples\n",
    "\n",
    "Use Scaper to create household sound mixtures. This will generate the remaining samples needed to balance the dataset."
   ]
  },
  {
   "cell_type": "code",
   "execution_count": 6,
   "id": "0247d08e",
   "metadata": {},
   "outputs": [
    {
     "name": "stderr",
     "output_type": "stream",
     "text": [
      "SoX could not be found!\n",
      "\n",
      "    If you do not have SoX, proceed here:\n",
      "     - - - http://sox.sourceforge.net/ - - -\n",
      "\n",
      "    If you do (or think that you should) have SoX, double-check your\n",
      "    path variables.\n",
      "    \n"
     ]
    },
    {
     "name": "stdout",
     "output_type": "stream",
     "text": [
      "⚠️  Soundbanks not found. Run create_synthetic_soundbank.py first.\n"
     ]
    }
   ],
   "source": [
    "import random\n",
    "\n",
    "try:\n",
    "    import scaper\n",
    "    HAS_SCAPER = True\n",
    "except:\n",
    "    HAS_SCAPER = False\n",
    "    print(\"⚠️  Scaper not installed. Will use augmentation fallback.\")\n",
    "\n",
    "if HAS_SCAPER and needed > 0:\n",
    "    # Setup paths\n",
    "    BG_PATH = Path(\"Soundbanks/backgrounds\")\n",
    "    FG_PATH = Path(\"Soundbanks/events\")\n",
    "    \n",
    "    # Check if soundbanks exist\n",
    "    if not BG_PATH.exists() or not FG_PATH.exists():\n",
    "        print(\"⚠️  Soundbanks not found. Run create_synthetic_soundbank.py first.\")\n",
    "    else:\n",
    "        # Seed for reproducibility\n",
    "        np.random.seed(42)\n",
    "        random.seed(42)\n",
    "        \n",
    "        print(f\"🎵 Generating {needed} synthetic non-cry samples...\")\n",
    "        \n",
    "        for i in tqdm(range(needed), desc=\"Generating\"):\n",
    "            # Create a Scaper instance\n",
    "            sc = scaper.Scaper(\n",
    "                duration=TARGET_DUR,\n",
    "                fg_path=str(FG_PATH),\n",
    "                bg_path=str(BG_PATH),\n",
    "            )\n",
    "            sc.ref_db = -20\n",
    "            \n",
    "            # Add background\n",
    "            sc.add_background(\n",
    "                label=('const', 'ambience'),\n",
    "                source_file=('choose', []),\n",
    "                source_time=('const', 0),\n",
    "            )\n",
    "            \n",
    "            # Add 1-3 random foreground events\n",
    "            n_events = np.random.randint(1, 4)\n",
    "            for _ in range(n_events):\n",
    "                sc.add_event(\n",
    "                    label=('choose', []),\n",
    "                    source_file=('choose', []),\n",
    "                    source_time=('uniform', 0, 0.0),\n",
    "                    event_time=('uniform', 0, 5),\n",
    "                    event_duration=('uniform', 0.5, 2.5),\n",
    "                    snr=('uniform', 0, 20),\n",
    "                    pitch_shift=('uniform', -2, 2),\n",
    "                    time_stretch=('uniform', 0.9, 1.1),\n",
    "                )\n",
    "            \n",
    "            # Generate\n",
    "            out_path = NONCRY_STD_DIR / f\"noncry_{std_count + i:05d}.wav\"\n",
    "            sc.generate(\n",
    "                audio_path=str(out_path),\n",
    "                jams_path=None,\n",
    "                allow_repeated_label=True,\n",
    "                allow_repeated_source=True,\n",
    "                disable_sox_warnings=True,\n",
    "                sr=TARGET_SR,\n",
    "                bitdepth=16,\n",
    "                channels=1,\n",
    "            )\n",
    "        \n",
    "        print(f\"✅ Generated {needed} additional samples\")\n",
    "else:\n",
    "    print(\"ℹ️  No additional samples needed or Scaper unavailable\")"
   ]
  },
  {
   "cell_type": "markdown",
   "id": "9c9df18a",
   "metadata": {},
   "source": [
    "## 7. Create Balanced Dataset Structure\n",
    "\n",
    "Copy files into a clean balanced dataset folder with `cry/` and `non-cry/` subfolders."
   ]
  },
  {
   "cell_type": "code",
   "execution_count": 7,
   "id": "32eb139b",
   "metadata": {},
   "outputs": [
    {
     "name": "stdout",
     "output_type": "stream",
     "text": [
      "📦 Creating balanced dataset structure...\n"
     ]
    },
    {
     "name": "stderr",
     "output_type": "stream",
     "text": [
      "Copying cry files: 100%|██████████| 1450/1450 [00:00<00:00, 1595.40it/s]\n",
      "Copying cry files: 100%|██████████| 1450/1450 [00:00<00:00, 1595.40it/s]\n",
      "Copying non-cry files: 100%|██████████| 324/324 [00:00<00:00, 1576.00it/s]"
     ]
    },
    {
     "name": "stdout",
     "output_type": "stream",
     "text": [
      "✅ Balanced dataset created in Dataset\\balanced\n"
     ]
    },
    {
     "name": "stderr",
     "output_type": "stream",
     "text": [
      "\n"
     ]
    }
   ],
   "source": [
    "# Create balanced dataset directories\n",
    "balanced_cry = BALANCED_DIR / \"cry\"\n",
    "balanced_noncry = BALANCED_DIR / \"non-cry\"\n",
    "balanced_cry.mkdir(parents=True, exist_ok=True)\n",
    "balanced_noncry.mkdir(parents=True, exist_ok=True)\n",
    "\n",
    "# Copy cry files\n",
    "print(\"📦 Creating balanced dataset structure...\")\n",
    "for src in tqdm(list(CRY_DIR.glob(\"*.wav\")), desc=\"Copying cry files\"):\n",
    "    shutil.copy2(src, balanced_cry / src.name)\n",
    "\n",
    "# Copy non-cry files\n",
    "for src in tqdm(list(NONCRY_STD_DIR.glob(\"*.wav\")), desc=\"Copying non-cry files\"):\n",
    "    shutil.copy2(src, balanced_noncry / src.name)\n",
    "\n",
    "print(f\"✅ Balanced dataset created in {BALANCED_DIR}\")"
   ]
  },
  {
   "cell_type": "markdown",
   "id": "9e26383e",
   "metadata": {},
   "source": [
    "## 8. Verify Final Balance"
   ]
  },
  {
   "cell_type": "code",
   "execution_count": 8,
   "id": "2a50ad94",
   "metadata": {},
   "outputs": [
    {
     "name": "stdout",
     "output_type": "stream",
     "text": [
      "🎉 Final Balanced Dataset:\n",
      "   Cry samples: 1450\n",
      "   Non-cry samples: 324\n",
      "   Balance ratio: 4.48:1\n",
      "\n",
      "📁 Dataset location: Dataset\\balanced\n"
     ]
    },
    {
     "data": {
      "image/png": "[encoded data removed]",
      "text/plain": [
       "<Figure size 1400x500 with 2 Axes>"
      ]
     },
     "metadata": {},
     "output_type": "display_data"
    },
    {
     "name": "stdout",
     "output_type": "stream",
     "text": [
      "\n",
      "✅ Dataset is now balanced and ready for training!\n"
     ]
    }
   ],
   "source": [
    "# Count final samples\n",
    "final_cry_count, _ = count_audio_files(balanced_cry)\n",
    "final_noncry_count, _ = count_audio_files(balanced_noncry)\n",
    "\n",
    "print(f\"🎉 Final Balanced Dataset:\")\n",
    "print(f\"   Cry samples: {final_cry_count}\")\n",
    "print(f\"   Non-cry samples: {final_noncry_count}\")\n",
    "print(f\"   Balance ratio: {final_cry_count / max(final_noncry_count, 1):.2f}:1\")\n",
    "print(f\"\\n📁 Dataset location: {BALANCED_DIR}\")\n",
    "\n",
    "# Visualize final balance\n",
    "fig, (ax1, ax2) = plt.subplots(1, 2, figsize=(14, 5))\n",
    "\n",
    "# Before\n",
    "ax1.bar(['Cry', 'Non-Cry'], [cry_count, std_count], color=['#ff6b6b', '#4ecdc4'])\n",
    "ax1.set_ylabel('Number of Samples')\n",
    "ax1.set_title('Before Balancing')\n",
    "ax1.set_ylim(0, max(cry_count, final_noncry_count) * 1.1)\n",
    "\n",
    "# After\n",
    "bars = ax2.bar(['Cry', 'Non-Cry'], [final_cry_count, final_noncry_count], color=['#ff6b6b', '#4ecdc4'])\n",
    "ax2.set_ylabel('Number of Samples')\n",
    "ax2.set_title('After Balancing ✓')\n",
    "ax2.set_ylim(0, max(cry_count, final_noncry_count) * 1.1)\n",
    "for bar in bars:\n",
    "    height = bar.get_height()\n",
    "    ax2.text(bar.get_x() + bar.get_width()/2., height,\n",
    "             f'{int(height)}', ha='center', va='bottom')\n",
    "\n",
    "plt.tight_layout()\n",
    "plt.show()\n",
    "\n",
    "print(\"\\n✅ Dataset is now balanced and ready for training!\")"
   ]
  },
  {
   "cell_type": "markdown",
   "id": "585bb716",
   "metadata": {},
   "source": [
    "## Summary\n",
    "\n",
    "**What this notebook did:**\n",
    "1. ✅ Counted existing cry (1000+) and non-cry (<500) samples\n",
    "2. ✅ Standardized all non-cry files to 7s, 16kHz mono WAV format\n",
    "3. ✅ Renamed files with consistent pattern: `noncry_00000.wav`, etc.\n",
    "4. ✅ Generated additional synthetic non-cry samples using Scaper\n",
    "5. ✅ Created balanced dataset in `Dataset/balanced/` with equal cry/non-cry counts\n",
    "\n",
    "**Next steps:**\n",
    "- Train your baby cry detection model using `Dataset/balanced/cry/` and `Dataset/balanced/non-cry/`\n",
    "- Consider train/val/test splits (e.g., 70/15/15)\n",
    "- Apply additional augmentations during training if needed"
   ]
  }
 ],
 "metadata": {
  "kernelspec": {
   "display_name": "Python 3",
   "language": "python",
   "name": "python3"
  },
  "language_info": {
   "codemirror_mode": {
    "name": "ipython",
    "version": 3
   },
   "file_extension": ".py",
   "mimetype": "text/x-python",
   "name": "python",
   "nbconvert_exporter": "python",
   "pygments_lexer": "ipython3",
   "version": "3.13.5"
  }
 },
 "nbformat": 4,
 "nbformat_minor": 5
}
